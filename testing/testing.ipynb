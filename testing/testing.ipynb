{
 "cells": [
  {
   "cell_type": "code",
   "execution_count": 15,
   "id": "4dd24d83",
   "metadata": {},
   "outputs": [],
   "source": [
    "import sqlite3\n",
    "from pathlib import Path\n",
    "\n",
    "\n"
   ]
  },
  {
   "cell_type": "code",
   "execution_count": null,
   "id": "2ab3ff14",
   "metadata": {},
   "outputs": [
    {
     "name": "stdout",
     "output_type": "stream",
     "text": [
      "(0, 'id', 'INTEGER', 0, None, 1)\n",
      "(1, 'record_date', 'DATE', 1, None, 0)\n",
      "(2, 'gross', 'REAL', 1, None, 0)\n",
      "(3, 'costs', 'REAL', 1, None, 0)\n",
      "(4, 'notes', 'TEXT', 0, None, 0)\n"
     ]
    }
   ],
   "source": [
    "DB_PATH_FINANCIAL = Path(\"../fakeDB/financial.db\")\n",
    "conn = sqlite3.connect(DB_PATH_FINANCIAL)\n",
    "cursor = conn.cursor()\n",
    "\n",
    "cursor.execute(\"PRAGMA table_info(financial);\")\n",
    "columns = cursor.fetchall()\n",
    "for col in columns:\n",
    "    print(col)\n",
    "conn.close()"
   ]
  },
  {
   "cell_type": "code",
   "execution_count": 17,
   "id": "af862948",
   "metadata": {},
   "outputs": [
    {
     "name": "stdout",
     "output_type": "stream",
     "text": [
      "(1, '2025-01-01', 4541.86, 1164.94, 3376.9199999999996, 'Test data for 2025-01-01')\n",
      "(2, '2025-01-02', 4835.88, 708.55, 4127.33, 'Test data for 2025-01-02')\n",
      "(3, '2025-01-03', 3204.86, 1738.75, 1466.1100000000001, 'Test data for 2025-01-03')\n",
      "(4, '2025-01-04', 2511.58, 2039.73, 471.8499999999999, 'Test data for 2025-01-04')\n",
      "(5, '2025-01-05', 4898.11, 2047.62, 2850.49, 'Test data for 2025-01-05')\n",
      "January records: 31\n",
      "Total revenue: 488471.7300000006\n"
     ]
    }
   ],
   "source": [
    "conn = sqlite3.connect(DB_PATH_FINANCIAL)\n",
    "cursor = conn.cursor()\n",
    "\n",
    "# Example 1: Get all records\n",
    "cursor.execute(\"SELECT * FROM financial;\")\n",
    "rows = cursor.fetchall()\n",
    "for row in rows[:5]:  # just print first 5 rows\n",
    "    print(row)\n",
    "\n",
    "# Example 2: Filter by date\n",
    "cursor.execute(\"SELECT * FROM financial WHERE record_date >= ? AND record_date <= ?;\",\n",
    "               (\"2025-01-01\", \"2025-01-31\"))\n",
    "january_rows = cursor.fetchall()\n",
    "print(\"January records:\", len(january_rows))\n",
    "\n",
    "# Example 3: Aggregate analytics (e.g., total revenue)\n",
    "cursor.execute(\"SELECT SUM(revenue) FROM financial;\")\n",
    "total_revenue = cursor.fetchone()[0]\n",
    "print(\"Total revenue:\", total_revenue)\n",
    "\n",
    "# Close connection\n",
    "conn.close()"
   ]
  }
 ],
 "metadata": {
  "kernelspec": {
   "display_name": "Python 3",
   "language": "python",
   "name": "python3"
  },
  "language_info": {
   "codemirror_mode": {
    "name": "ipython",
    "version": 3
   },
   "file_extension": ".py",
   "mimetype": "text/x-python",
   "name": "python",
   "nbconvert_exporter": "python",
   "pygments_lexer": "ipython3",
   "version": "3.11.4"
  }
 },
 "nbformat": 4,
 "nbformat_minor": 5
}
